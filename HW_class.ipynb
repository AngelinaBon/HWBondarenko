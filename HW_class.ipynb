{
  "nbformat": 4,
  "nbformat_minor": 0,
  "metadata": {
    "colab": {
      "provenance": []
    },
    "kernelspec": {
      "name": "python3",
      "display_name": "Python 3"
    },
    "language_info": {
      "name": "python"
    }
  },
  "cells": [
    {
      "cell_type": "markdown",
      "source": [
        "Вариант B"
      ],
      "metadata": {
        "id": "7YKT9eMp_EKu"
      }
    },
    {
      "cell_type": "code",
      "execution_count": 88,
      "metadata": {
        "id": "iE2fPG3k-y4b"
      },
      "outputs": [],
      "source": [
        "class Machine():\n",
        "  departure = None\n",
        "  path = list[tunnel]\n",
        "  current_coord = [0,0,0]\n",
        "\n",
        "  def __init__(self):\n",
        "    self.departure = None\n",
        "    self.path = list[tunnel]\n",
        "    self.current_coord = [0,0,0]\n",
        "\n",
        "  def set_departure(self, departure_status : bool):\n",
        "    self.departure = departure_status\n",
        "\n",
        "  def add_path(self, new_tunnel : tunnel):\n",
        "    self.path.append(new_tunnel)\n",
        "\n",
        "  def change_current_coord(self, new_coord : [float, float, float] ):\n",
        "    self.current_coord = new_coord\n",
        "\n",
        "  def get_status(self): #получание всей информации о машине в данный момент\n",
        "    print(self.departure, self.path, self.current_coord)\n",
        "\n",
        "  pass\n",
        "\n",
        "class Drilling_machine(Machine):\n",
        "  pass\n",
        "\n",
        "class Mapping_machine(Machine):\n",
        "  def __init__(self):\n",
        "    self.map = 'тут должна быть картиночка'\n",
        "  def mapping():\n",
        "    pass\n",
        "\n",
        "  pass\n",
        "\n",
        "\n",
        "class Exam_machine(Machine):\n",
        "\n",
        "  def __init__(self):\n",
        "    self.photo = 0\n",
        "    self.depretiation = 0\n",
        "\n",
        "  def set_depretiation(self, depretiationn):\n",
        "    self.depretiation = depretiationn\n",
        "\n",
        "  def repair(self):\n",
        "    if self.depretiation > 2: #здесь 2 - экзогенно заданная величина, процент износа, с которого машину нужно отправлять на ремонт,\n",
        "    #поставила конкретное число, чтобы коллаб не ругался\n",
        "      return True\n",
        "    else:\n",
        "      return False\n",
        "  pass\n",
        "\n",
        "\n",
        "class tunnel():\n",
        "  def __init__(self, support : str):\n",
        "    self.support = support\n",
        "  pass\n",
        "\n",
        "class adit():\n",
        "  def __init__(self):\n",
        "    all_tunnels = list[tunnel] #списко из всех тоннелей, которые входят в состав каждой штольни\n",
        "  def add_tunnel( new_tunnel ):\n",
        "    self.all_tunnels.append(new_tunnel)\n",
        "  def make_connection (new_connection):\n",
        "    #соединяет пути между собой чтобы сделать карту штольни\n",
        "    pass\n"
      ]
    }
  ]
}